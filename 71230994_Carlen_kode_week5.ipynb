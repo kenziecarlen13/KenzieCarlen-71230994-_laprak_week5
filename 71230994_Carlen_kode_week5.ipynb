{
 "cells": [
  {
   "cell_type": "code",
   "execution_count": null,
   "metadata": {},
   "outputs": [],
   "source": [
    "#5.1\n",
    "def perkalian():\n",
    "    a = int(input(\"Masukkan angka pertama:\"))\n",
    "    b = int(input(\"masukkan angka kedua:\"))\n",
    "    hasil = 0\n",
    "    for i in range(a):\n",
    "        hasil = hasil + b\n",
    "    newHasil = (f\"{a} x {b} = {f'{b} + ' * (a-1)}{b} = {hasil}\")\n",
    "    \n",
    "    return newHasil\n",
    "print(perkalian())"
   ]
  },
  {
   "cell_type": "code",
   "execution_count": null,
   "metadata": {},
   "outputs": [],
   "source": [
    "#5.2\n",
    "def ganjil(bawah, atas):\n",
    "    deret_ganjil = []\n",
    "    if atas > bawah:\n",
    "        deret_ganjil = [i for i in range(bawah, atas+1) if i % 2 != 0]\n",
    "        print(f\"Deret ganjil mulai dari {bawah} berhenti di {atas}: {deret_ganjil})\")\n",
    "    if bawah > atas:\n",
    "        deret_ganjil = [i for i in range(bawah, atas, -1) if i % 2 != 0]\n",
    "        print(f\"Deret ganjil mulai dari {bawah} berhenti di {atas}: {deret_ganjil}\")\n",
    "    return deret_ganjil\n",
    "\n",
    "bawah = int(input(\"Masukkan bilangan batas bawah: \"))\n",
    "atas = int(input(\"Masukkan bilangan batas atas: \"))\n",
    "deret_ganjil = ganjil(bawah, atas)"
   ]
  },
  {
   "cell_type": "code",
   "execution_count": null,
   "metadata": {},
   "outputs": [],
   "source": [
    "#5.3\n",
    "def count_ips(jmlh_matkul):\n",
    "    total_sks = jmlh_matkul * 3\n",
    "    bobot_total = 0\n",
    "    \n",
    "    for i in range(jmlh_matkul):\n",
    "        huruf = input(f\"Masukkan nilai mata kuliah ke-{i+1} (A/B/C/D): \")\n",
    "        if huruf.upper() == \"A\":\n",
    "            nilai_matkul = 4\n",
    "        elif huruf.upper() == \"B\":\n",
    "            nilai_matkul = 3\n",
    "        elif huruf.upper() == \"C\":\n",
    "            nilai_matkul = 2\n",
    "        elif huruf.upper() == \"D\":\n",
    "            nilai_matkul = 1\n",
    "        else:\n",
    "            print(\"Huruf tidak valid, masukkan dengan benar (A/B/C/D)!\")\n",
    "            return\n",
    "        \n",
    "        bobot_total += nilai_matkul * 3\n",
    "    \n",
    "    ips = bobot_total / total_sks\n",
    "    if ips is not None:\n",
    "        print(f\"Indeks Prestasi Semester anda: {ips:.2f}\")\n",
    "    return ips\n",
    "\n",
    "jumlah_matkul = int(input('Masukkan jumlah mata kuliah anda: '))\n",
    "count_ips(jumlah_matkul)\n"
   ]
  }
 ],
 "metadata": {
  "kernelspec": {
   "display_name": "base",
   "language": "python",
   "name": "python3"
  },
  "language_info": {
   "codemirror_mode": {
    "name": "ipython",
    "version": 3
   },
   "file_extension": ".py",
   "mimetype": "text/x-python",
   "name": "python",
   "nbconvert_exporter": "python",
   "pygments_lexer": "ipython3",
   "version": "3.11.5"
  }
 },
 "nbformat": 4,
 "nbformat_minor": 2
}
